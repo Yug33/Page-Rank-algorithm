{
 "cells": [
  {
   "cell_type": "code",
   "execution_count": 2,
   "metadata": {
    "collapsed": true
   },
   "outputs": [],
   "source": [
    "import numpy as np\n",
    "import pandas as pd\n",
    "import nltk\n",
    "#nltk.download('punkt') # one time execution\n",
    "import re"
   ]
  },
  {
   "cell_type": "code",
   "execution_count": 3,
   "metadata": {},
   "outputs": [],
   "source": [
    "df = pd.read_csv(\"Dataset/tennis_articles_v4.csv\")"
   ]
  },
  {
   "cell_type": "code",
   "execution_count": 5,
   "metadata": {},
   "outputs": [
    {
     "data": {
      "text/plain": [
       "['Maria Sharapova has basically no friends as tennis players on the WTA Tour.',\n \"The Russian player has no problems in openly speaking about it and in a recent interview she said: 'I don't really hide any feelings too much.\",\n 'I think everyone knows this is my job here.',\n \"When I'm on the courts or when I'm on the court playing, I'm a competitor and I want to beat every single person whether they're in the locker room or across the net.So I'm not the one to strike up a conversation about the weather and know that in the next few minutes I have to go and try to win a tennis match.\",\n \"I'm a pretty competitive girl.\"]"
      ]
     },
     "execution_count": 5,
     "metadata": {},
     "output_type": "execute_result"
    }
   ],
   "source": [
    "#Passage split in the sentences \n",
    "from nltk.tokenize import sent_tokenize\n",
    "sentences = []\n",
    "for s in df['article_text']:\n",
    "  sentences.append(sent_tokenize(s))\n",
    "\n",
    "sentences = [y for x in sentences for y in x] # flatten list\n",
    "sentences[:5]"
   ]
  },
  {
   "cell_type": "code",
   "execution_count": 6,
   "metadata": {},
   "outputs": [
    {
     "data": {
      "text/plain": [
       "['maria sharapova has basically no friends as tennis players on the wta tour ',\n 'the russian player has no problems in openly speaking about it and in a recent interview she said   i don t really hide any feelings too much ',\n 'i think everyone knows this is my job here ',\n 'when i m on the courts or when i m on the court playing  i m a competitor and i want to beat every single person whether they re in the locker room or across the net so i m not the one to strike up a conversation about the weather and know that in the next few minutes i have to go and try to win a tennis match ',\n 'i m a pretty competitive girl ',\n 'i say my hellos  but i m not sending any players flowers as well ',\n 'uhm  i m not really friendly or close to many players ',\n 'i have not a lot of friends away from the courts  ',\n 'when she said she is not really close to a lot of players  is that something strategic that she is doing ',\n 'is it different on the men s tour than the women s tour ',\n ' no  not at all ',\n 'i think just because you re in the same sport doesn t mean that you have to be friends with everyone just because you re categorized  you re a tennis player  so you re going to get along with tennis players ',\n 'i think every person has different interests ',\n 'i have friends that have completely different jobs and interests  and i ve met them in very different parts of my life ',\n 'i think everyone just thinks because we re tennis players we should be the greatest of friends ',\n 'but ultimately tennis is just a very small part of what we do ',\n 'there are so many other things that we re interested in  that we do  ',\n 'basel  switzerland  ap   roger federer advanced to the   th swiss indoors final of his career by beating seventh seeded daniil medvedev          on saturday ',\n 'seeking a ninth title at his hometown event  and a   th overall  federer will play   th ranked marius copil on sunday ',\n 'federer dominated the   th ranked medvedev and had his first match point chance to break serve again at     ',\n 'he then dropped his serve to love  and let another match point slip in medvedev s next service game by netting a backhand ',\n 'he clinched on his fourth chance when medvedev netted from the baseline ',\n 'copil upset expectations of a federer final against alexander zverev in a                   win over the fifth ranked german in the earlier semifinal ',\n 'the romanian aims for a first title after arriving at basel without a career win over a top    opponent ',\n 'copil has two after also beating no ',\n '  marin cilic in the second round ',\n 'copil fired    aces past zverev and never dropped serve  clinching after       hours with a forehand volley winner to break zverev for the second time in the semifinal ',\n 'he came through two rounds of qualifying last weekend to reach the basel main draw  including beating zverev s older brother  mischa ',\n 'federer had an easier time than in his only previous match against medvedev  a three setter at shanghai two weeks ago ',\n 'roger federer has revealed that organisers of the re launched and condensed davis cup gave him three days to decide if he would commit to the controversial competition ',\n 'speaking at the swiss indoors tournament where he will play in sundays final against romanian qualifier marius copil  the world number three said that given the impossibly short time frame to make a decision  he opted out of any commitment ',\n ' they only left me three days to decide   federer said ',\n ' i didn t to have time to consult with all the people i had to consult ',\n ' i could not make a decision in that time  so i told them to do what they wanted  ',\n 'the    time grand slam champion has voiced doubts about the wisdom of the one week format to be introduced by organisers kosmos  who have promised the international tennis federation up to    billion in prize money over the next quarter century ',\n 'the competition is set to feature    countries in the november       finals in madrid next year  and will replace the classic home and away ties played four times per year for decades ',\n 'kosmos is headed by barcelona footballer gerard pique  who is hoping fellow spaniard rafael nadal will play in the upcoming event ',\n 'novak djokovic has said he will give precedence to the atp s intended re launch of the defunct world team cup in january       at various australian venues ',\n 'major players feel that a big event in late november combined with one in january before the australian open will mean too much tennis and too little rest ',\n 'federer said earlier this month in shanghai in that his chances of playing the davis cup were all but non existent ',\n ' i highly doubt it  of course ',\n 'we will see what happens   he said ',\n ' i do not think this was designed for me  anyhow ',\n 'this was designed for the future generation of players  ',\n 'argentina and britain received wild cards to the new look event  and will compete along with the four      semi finalists and the    teams who win qualifying rounds next february ',\n ' i don t like being under that kind of pressure   federer said of the deadline kosmos handed him ',\n 'kei nishikori will try to end his long losing streak in atp finals and kevin anderson will go for his second title of the year at the erste bank open on sunday ',\n 'the fifth seeded nishikori reached his third final of      after beating mikhail kukushkin of kazakhstan          in the semifinals ',\n 'a winner of    atp events  nishikori hasn t triumphed since winning in memphis in february      ',\n 'he has lost eight straight finals since ',\n 'the second seeded anderson defeated fernando verdasco               ',\n 'anderson has a shot at a fifth career title and second of the year after winning in new york in february ',\n 'nishikori leads anderson     on career matchups  but the south african won their only previous meeting this year ',\n 'with a victory on sunday  anderson will qualify for the atp finals ',\n 'currently in ninth place  nishikori with a win could move to within     points of the cut for the eight man event in london next month ',\n 'nishikori held serve throughout against kukushkin  who came through qualifying ',\n 'he used his first break point to close out the first set before going up     in the second and wrapping up the win on his first match point ',\n 'against verdasco  anderson hit nine of his    aces in the opening set ',\n 'the spaniard broke anderson twice in the second but didn t get another chance on the south african s serve in the final set ',\n 'federer      first broke through on tour over two decades ago and he has since gone on to enjoy a glittering career ',\n 'the    time grand slam winner is chasing his   th atp title at the swiss indoors this week and he faces jan lennard struff in the second round on thursday   pm bst  ',\n 'davenport enjoyed most of her success in the late     s and her third and final major tournament win came at the      australian open ',\n 'but she claims the mentality of professional tennis players slowly began to change after the new millennium ',\n ' it seems pretty friendly right now   said davenport ',\n ' i think there is a really nice environment and a great atmosphere  especially between some of the veteran players helping some of the younger players out ',\n ' it s a very pleasant atmosphere  i d have to say  around the locker rooms ',\n ' i felt like the best weeks that i had to get to know players when i was playing were the fed cup weeks or the olympic weeks  not necessarily during the tournaments ',\n ' and even though maybe we had smaller teams  i still think we kept to ourselves quite a bit ',\n ' not always  but i really feel like in the mid      years there was a huge shift of the attitudes of the top players and being more friendly and being more giving  and a lot of that had to do with players like roger coming up ',\n ' i just felt like it really kind of changed where people were a little bit  definitely in the   s  a lot more quiet  into themselves  and then it started to become better  ',\n 'meanwhile  federer is hoping he can improve his service game as he hunts his ninth swiss indoors title this week ',\n ' i didn t serve very well  against first round opponent filip kranjovic   federer said ',\n ' i think i was misfiring the corners  i was not hitting the lines enough ',\n ' clearly you make your life more difficult  but still i was up           break points  so things could have ended very quickly today  even though i didn t have the best serve percentage stats ',\n ' but maybe that s exactly what caught up to me eventually ',\n 'it s just getting used to it ',\n 'this is where the first rounds can be tricky  ',\n 'nadal has not played tennis since he was forced to retire from the us open semi finals against juan martin del porto with a knee injury ',\n 'the world no   has been forced to miss spain s davis cup clash with france and the asian hard court season ',\n 'but with the atp world tour finals due to begin next month  nadal is ready to prove his fitness before the season ending event at the    arena ',\n 'nadal flew to paris on friday and footage from the paris masters official twitter account shows the spaniard smiling as he strides onto court for practice ',\n 'the paris masters draw has been made and nadal will start his campaign on tuesday or wednesday against either fernando verdasco or jeremy chardy ',\n 'nadal could then play defending champion jack sock in the third round before a potential quarter final with either borna coric or dominic thiem ',\n 'nadal s appearance in paris is a big boost to the tournament organisers who could see roger federer withdraw ',\n 'federer is in action at the swiss indoors in basel and if he reaches the final  he could pull out of paris in a bid to stay fresh for london ',\n 'but as it stands  federer is in the draw and is scheduled to face either former world no   milos raonic or jo wilfried tsonga in the second round ',\n 'federer s projected route to the paris final could also lead to matches against kevin anderson and novak djokovic ',\n 'djokovic could play marco cecchinato in the second round ',\n 'british no   kyle edmund is the   th seed in paris and will get underway in round two against either karen khachanov or filip krajinovic ',\n 'tennis giveth  and tennis taketh away ',\n 'the end of the season is finally in sight  and with so many players defending or losing huge chunks of points in singapore  zhuhai and london  podcast co hosts nina pantic and irina falconi discuss the art of defending points         ',\n 'it s no secret that jack sock has struggled on the singles court this year  his record is       ',\n 'he could lose       points in the next few weeks  but instead of focusing on the negative  it can all be about perspective         ',\n 'let s also not forget his two grand slam doubles triumphs this season ',\n 'two players  stefanos tsitsipas and kyle edmund  won their first career atp titles last week         ',\n 'it s a big deal because you never forget your first ',\n 'irina looks back at her wta title win in bogota in       and tells an unforgettable story about her semifinal drama         ',\n 'in singapore  one of the biggest storylines  aside from the matches  of course  has been the on court coaching debate ',\n 'nina and irina give their opinions on what coaching should look like in the future  on both tours         ',\n 'federer won the swiss indoors last week by beating romanian qualifier marius copil in the final ',\n 'the    year old claimed his   th atp title and is hunting the century in the french capital this week ',\n 'federer has been handed a difficult draw where could could come across kevin anderson  novak djokovic and rafael nadal in the latter rounds ',\n 'but first the    time grand slam winner wants to train on the paris masters court this afternoon before deciding whether to appear for his opening match against either milos raonic or jo wilfried tsonga ',\n ' on monday  i am free and will look how i feel   federer said after winning the swiss indoors ',\n ' on tuesday i will fly to paris and train in the afternoon to be ready for my first match on wednesday night ',\n ' i felt good all week and better every day ',\n ' we also had the impression that at this stage it might be better to play matches than to train ',\n ' and as long as i fear no injury  i play  ',\n 'federer s success in basel last week was the ninth time he has won his hometown tournament ',\n 'and he was delighted to be watched on by all of his family and friends as he purchased    tickets for the final for those dearest to him ',\n ' my children  my parents  my sister and my team are all there   federer added ',\n ' it is always very emotional for me to thank my team ',\n 'and sometimes it tilts with the emotions  sometimes i just stumble ',\n ' it means the world to me ',\n 'it makes me incredibly happy to win my home tournament and make people happy here ',\n ' i do not know if it s maybe my last title  so today i try a lot more to absorb that and enjoy the moments much more consciously ',\n ' maybe i should celebrate as if it were my last title ',\n ' there are very touching moments  seeing the ball children  the standing ovations  all the familiar faces in the audience ',\n 'because it was not always easy in the last weeks  ']"
      ]
     },
     "execution_count": 6,
     "metadata": {},
     "output_type": "execute_result"
    }
   ],
   "source": [
    "# remove punctuations, numbers and special characters\n",
    "clean_sentences = pd.Series(sentences).str.replace(\"[^a-zA-Z]\", \" \")\n",
    "\n",
    "# make alphabets lowercase\n",
    "clean_sentences = [s.lower() for s in clean_sentences]\n",
    "clean_sentences"
   ]
  },
  {
   "cell_type": "code",
   "execution_count": 7,
   "metadata": {},
   "outputs": [],
   "source": [
    "# remove punctuations, numbers and special characters\n",
    "clean_sentences = pd.Series(sentences).str.replace(\"[^a-zA-Z]\", \" \")\n",
    "\n",
    "# make alphabets lowercase\n",
    "clean_sentences = [s.lower() for s in clean_sentences]"
   ]
  },
  {
   "cell_type": "code",
   "execution_count": 8,
   "metadata": {},
   "outputs": [],
   "source": [
    "#nltk.download('stopwords') one time execution\n",
    "from nltk.corpus import stopwords\n",
    "stop_words = stopwords.words('english')"
   ]
  },
  {
   "cell_type": "code",
   "execution_count": 9,
   "metadata": {},
   "outputs": [],
   "source": [
    "# function to remove stopwords\n",
    "def remove_stopwords(sen):\n",
    "    sen_new = \" \".join([i for i in sen if i not in stop_words])\n",
    "    return sen_new"
   ]
  },
  {
   "cell_type": "code",
   "execution_count": 10,
   "metadata": {},
   "outputs": [],
   "source": [
    "clean_sentences = [remove_stopwords(r.split()) for r in clean_sentences]"
   ]
  },
  {
   "cell_type": "code",
   "execution_count": 11,
   "metadata": {
    "collapsed": true
   },
   "outputs": [
    {
     "name": "stdout",
     "output_type": "stream",
     "text": [
      "  (0, 571)\t1\n  (0, 625)\t1\n  (0, 419)\t1\n  (0, 548)\t1\n  (0, 223)\t1\n  (0, 41)\t1\n  (0, 495)\t1\n  (0, 336)\t1\n  (1, 368)\t1\n  (1, 190)\t1\n  (1, 253)\t1\n  (1, 455)\t1\n  (1, 472)\t1\n  (1, 277)\t1\n  (1, 457)\t1\n  (1, 518)\t1\n  (1, 396)\t1\n  (1, 434)\t1\n  (1, 418)\t1\n  (1, 471)\t1\n  (2, 285)\t1\n  (2, 297)\t1\n  (2, 174)\t1\n  (2, 553)\t1\n  (3, 341)\t1\n  :\t:\n  (115, 163)\t1\n  (115, 303)\t1\n  (115, 565)\t1\n  (115, 325)\t1\n  (115, 579)\t1\n  (115, 296)\t1\n  (115, 368)\t1\n  (116, 71)\t1\n  (116, 344)\t1\n  (116, 303)\t1\n  (116, 565)\t1\n  (117, 31)\t1\n  (117, 181)\t1\n  (117, 401)\t1\n  (117, 521)\t1\n  (117, 36)\t1\n  (117, 482)\t1\n  (117, 570)\t1\n  (117, 363)\t1\n  (117, 80)\t1\n  (117, 179)\t1\n  (118, 154)\t1\n  (118, 14)\t1\n  (118, 609)\t1\n  (118, 303)\t1\n"
     ]
    }
   ],
   "source": [
    "from sklearn.feature_extraction.text import CountVectorizer    \n",
    "count_vect = CountVectorizer(max_features=5000)\n",
    "sentence_vectors = count_vect.fit_transform(clean_sentences)\n",
    "print(sentence_vectors)"
   ]
  },
  {
   "cell_type": "code",
   "execution_count": 13,
   "metadata": {},
   "outputs": [],
   "source": [
    "sim_mat = np.zeros([len(sentences), len(sentences)])\n",
    "\n",
    "from sklearn.metrics.pairwise import cosine_similarity\n",
    "for i in range(len(sentences)):\n",
    "  for j in range(len(sentences)):\n",
    "    if i != j:\n",
    "       sim_mat[i][j] = cosine_similarity(sentence_vectors[i], sentence_vectors[j])[0,0]"
   ]
  },
  {
   "cell_type": "code",
   "execution_count": 14,
   "metadata": {},
   "outputs": [],
   "source": [
    "import networkx as nx\n",
    "\n",
    "nx_graph = nx.from_numpy_array(sim_mat)\n",
    "scores = nx.pagerank(nx_graph)"
   ]
  },
  {
   "cell_type": "code",
   "execution_count": 15,
   "metadata": {},
   "outputs": [],
   "source": [
    "ranked_sentences = sorted(((scores[i],s) for i,s in enumerate(sentences)), reverse=True)"
   ]
  },
  {
   "cell_type": "code",
   "execution_count": 16,
   "metadata": {},
   "outputs": [
    {
     "name": "stdout",
     "output_type": "stream",
     "text": [
      "Federer won the Swiss Indoors last week by beating Romanian qualifier Marius Copil in the final.\n\"I didn't serve very well [against first-round opponent Filip Kranjovic,\" Federer said.\nI think everyone just thinks because we're tennis players we should be the greatest of friends.\nFederer's projected route to the Paris final could also lead to matches against Kevin Anderson and Novak Djokovic.\nFederer dominated the 20th-ranked Medvedev and had his first match-point chance to break serve again at 5-1.\nTwo players, Stefanos Tsitsipas and Kyle Edmund, won their first career ATP titles last week (13:26).\nI think just because you're in the same sport doesn't mean that you have to be friends with everyone just because you're categorized, you're a tennis player, so you're going to get along with tennis players.\nFederer's success in Basel last week was the ninth time he has won his hometown tournament.\nThe 20-time Grand Slam winner is chasing his 99th ATP title at the Swiss Indoors this week and he faces Jan-Lennard Struff in the second round on Thursday (6pm BST).\nFederer has been handed a difficult draw where could could come across Kevin Anderson, Novak Djokovic and Rafael Nadal in the latter rounds.\n"
     ]
    }
   ],
   "source": [
    "# Extract top 10 sentences as the summary\n",
    "for i in range(10):\n",
    "  print(ranked_sentences[i][1])"
   ]
  }
 ],
 "metadata": {
  "kernelspec": {
   "display_name": "Python 2",
   "language": "python",
   "name": "python2"
  },
  "language_info": {
   "codemirror_mode": {
    "name": "ipython",
    "version": 2
   },
   "file_extension": ".py",
   "mimetype": "text/x-python",
   "name": "python",
   "nbconvert_exporter": "python",
   "pygments_lexer": "ipython2",
   "version": "2.7.6"
  }
 },
 "nbformat": 4,
 "nbformat_minor": 0
}
